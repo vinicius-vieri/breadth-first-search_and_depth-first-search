{
 "cells": [
  {
   "attachments": {},
   "cell_type": "markdown",
   "metadata": {},
   "source": [
    "<h3>\n",
    "Universidade Federal da Paraíba <br>\n",
    "Centro de Informática <br>\n",
    "Bacharelado em Ciência de Dados e Inteligência Artificial <br>\n",
    "Disciplina: Introdução à Inteligência Artificial <br>\n",
    "Docente: Andrei Formiga <br>\n",
    "<h3>\n",
    "<h4>\n",
    "Discentes:<br> \n",
    "Maxwel Barbosa<br>\n",
    "Vinícius Freitas<br>\n",
    "Vinícius Vieri <br>\n",
    "<h4>\n",
    "\n"
   ]
  },
  {
   "attachments": {},
   "cell_type": "markdown",
   "metadata": {},
   "source": [
    "<center><h3>Atividade 6 - Algoritmos de busca sem informação<h3></center>"
   ]
  },
  {
   "attachments": {},
   "cell_type": "markdown",
   "metadata": {},
   "source": [
    "Usando a implementação de busca em largura desenvolvida para questão anterior resolva o problema de busca de rotas na Romênia (de Arad a Bucareste) usando os dados do livro e que estão disponíveis no código-fonte. Mostre o passo a passo da solução através da busca em profundidade e como a sequência de nós explorados difere da busca em largura."
   ]
  },
  {
   "cell_type": "code",
   "execution_count": 41,
   "metadata": {},
   "outputs": [],
   "source": [
    "from busca_dfs import *"
   ]
  },
  {
   "cell_type": "code",
   "execution_count": 42,
   "metadata": {},
   "outputs": [],
   "source": [
    "no_arad = bfs.No('Arad', 0, None, None)\n",
    "prob_Arad_Bucareste = bfs.Problema(bfs.estados_romenia, no_arad, lambda no: no.estado == 'Bucharest')\n"
   ]
  },
  {
   "cell_type": "code",
   "execution_count": 43,
   "metadata": {},
   "outputs": [
    {
     "name": "stdout",
     "output_type": "stream",
     "text": [
      "[(Zerind, 75), (Sibiu, 140), (Timisoara, 118)]\n",
      "[(Sibiu, 140), (Timisoara, 118), (Oradea, 146)]\n",
      "[(Timisoara, 118), (Oradea, 146), (Fagaras, 239), (Rimnicu Vilcea, 220)]\n",
      "[(Oradea, 146), (Fagaras, 239), (Rimnicu Vilcea, 220), (Lugoj, 229)]\n",
      "[(Fagaras, 239), (Rimnicu Vilcea, 220), (Lugoj, 229)]\n",
      "[(Rimnicu Vilcea, 220), (Lugoj, 229), (Bucharest, 450)]\n",
      "[(Lugoj, 229), (Bucharest, 450), (Craiova, 366), (Pitesti, 317)]\n",
      "[(Bucharest, 450), (Craiova, 366), (Pitesti, 317), (Mehadia, 299)]\n",
      "[(Craiova, 366), (Pitesti, 317), (Mehadia, 299)]\n",
      "Busca chegou ao objetivo com sucesso\n"
     ]
    }
   ],
   "source": [
    "#instanciando o problema de encontrar o melhor caminho de Arad até Bucharest usando o DFS\n",
    "dfs_arad_bucharest = BuscaProfundidade(prob_Arad_Bucareste)\n",
    "\n",
    "#critérios de parada do algoritmo\n",
    "situacoes_finais = [bfs.BUSCA_SUCESSO, bfs.BUSCA_FALHOU]\n",
    "\n",
    "#instanciando o problema de encontrar o melhor caminho de Arad até Bucharest usando o BFS\n",
    "bfs_arad_bucharest = bfs.BuscaLargura(prob_Arad_Bucareste)\n",
    "\n",
    "while bfs_arad_bucharest.situacao not in situacoes_finais:\n",
    "    bfs_arad_bucharest.passo_busca(), print(bfs_arad_bucharest.fronteira)\n",
    "    \n",
    "bfs_arad_bucharest.passo_busca()"
   ]
  },
  {
   "cell_type": "code",
   "execution_count": 44,
   "metadata": {},
   "outputs": [
    {
     "name": "stdout",
     "output_type": "stream",
     "text": [
      "[(Zerind, 75), (Sibiu, 140), (Timisoara, 118)]\n",
      "[(Zerind, 75), (Sibiu, 140), (Lugoj, 229)]\n",
      "[(Zerind, 75), (Sibiu, 140), (Mehadia, 299)]\n",
      "[(Zerind, 75), (Sibiu, 140), (Drobeta, 374)]\n",
      "[(Zerind, 75), (Sibiu, 140), (Craiova, 494)]\n",
      "[(Zerind, 75), (Sibiu, 140), (Rimnicu Vilcea, 640), (Pitesti, 632)]\n",
      "[(Zerind, 75), (Sibiu, 140), (Rimnicu Vilcea, 640), (Bucharest, 733)]\n",
      "[(Zerind, 75), (Sibiu, 140), (Rimnicu Vilcea, 640)]\n",
      "Busca chegou ao objetivo com sucesso\n"
     ]
    }
   ],
   "source": [
    "while dfs_arad_bucharest.situacao not in situacoes_finais:\n",
    "    dfs_arad_bucharest.passo_busca(), print(dfs_arad_bucharest.fronteira)\n",
    "    \n",
    "dfs_arad_bucharest.passo_busca()"
   ]
  },
  {
   "attachments": {},
   "cell_type": "markdown",
   "metadata": {},
   "source": [
    "<h3>Para comparação:<h3>"
   ]
  },
  {
   "cell_type": "code",
   "execution_count": 45,
   "metadata": {},
   "outputs": [
    {
     "data": {
      "text/plain": [
       "[(Arad, 0), (Sibiu, 140), (Fagaras, 239), (Bucharest, 450)]"
      ]
     },
     "execution_count": 45,
     "metadata": {},
     "output_type": "execute_result"
    }
   ],
   "source": [
    "bfs_arad_bucharest.solucao"
   ]
  },
  {
   "cell_type": "code",
   "execution_count": 46,
   "metadata": {},
   "outputs": [
    {
     "data": {
      "text/plain": [
       "[(Arad, 0),\n",
       " (Timisoara, 118),\n",
       " (Lugoj, 229),\n",
       " (Mehadia, 299),\n",
       " (Drobeta, 374),\n",
       " (Craiova, 494),\n",
       " (Pitesti, 632),\n",
       " (Bucharest, 733)]"
      ]
     },
     "execution_count": 46,
     "metadata": {},
     "output_type": "execute_result"
    }
   ],
   "source": [
    "dfs_arad_bucharest.solucao"
   ]
  },
  {
   "cell_type": "code",
   "execution_count": 47,
   "metadata": {},
   "outputs": [
    {
     "data": {
      "text/plain": [
       "450"
      ]
     },
     "execution_count": 47,
     "metadata": {},
     "output_type": "execute_result"
    }
   ],
   "source": [
    "custo_bfs = bfs_arad_bucharest.solucao[-1].custo\n",
    "custo_bfs"
   ]
  },
  {
   "cell_type": "code",
   "execution_count": 48,
   "metadata": {},
   "outputs": [
    {
     "data": {
      "text/plain": [
       "733"
      ]
     },
     "execution_count": 48,
     "metadata": {},
     "output_type": "execute_result"
    }
   ],
   "source": [
    "custo_dfs = dfs_arad_bucharest.solucao[-1].custo\n",
    "custo_dfs"
   ]
  }
 ],
 "metadata": {
  "kernelspec": {
   "display_name": "Python 3",
   "language": "python",
   "name": "python3"
  },
  "language_info": {
   "codemirror_mode": {
    "name": "ipython",
    "version": 3
   },
   "file_extension": ".py",
   "mimetype": "text/x-python",
   "name": "python",
   "nbconvert_exporter": "python",
   "pygments_lexer": "ipython3",
   "version": "3.8.10"
  },
  "orig_nbformat": 4
 },
 "nbformat": 4,
 "nbformat_minor": 2
}

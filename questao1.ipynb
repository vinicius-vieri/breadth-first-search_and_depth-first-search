{
 "cells": [
  {
   "attachments": {},
   "cell_type": "markdown",
   "metadata": {},
   "source": [
    "<h3>\n",
    "Universidade Federal da Paraíba <br>\n",
    "Centro de Informática <br>\n",
    "Bacharelado em Ciência de Dados e Inteligência Artificial <br>\n",
    "Disciplina: Introdução à Inteligência Artificial <br>\n",
    "Docente: Andrei Formiga <br>\n",
    "<h3>\n",
    "<h4>\n",
    "Discentes:<br> \n",
    "Maxwel Barbosa<br>\n",
    "Vinícius Freitas<br>\n",
    "Vinícius Vieri <br>\n",
    "<h4>\n",
    "\n"
   ]
  },
  {
   "attachments": {},
   "cell_type": "markdown",
   "metadata": {},
   "source": [
    "<center><h3>Atividade 6 - Algoritmos de busca sem informação<h3></center>"
   ]
  },
  {
   "attachments": {},
   "cell_type": "markdown",
   "metadata": {},
   "source": [
    "Com o espaço de estados das cidades da Romênia, escolha duas cidades para buscar uma rota usando a implementação de busca em largura que foi vista nos vídeos. Mostre o passo a passo da busca"
   ]
  },
  {
   "cell_type": "code",
   "execution_count": 1,
   "metadata": {},
   "outputs": [],
   "source": [
    "from busca_bfs import *\n",
    "from random import randint, seed\n",
    "seed(5)"
   ]
  },
  {
   "cell_type": "code",
   "execution_count": 2,
   "metadata": {},
   "outputs": [
    {
     "name": "stdout",
     "output_type": "stream",
     "text": [
      "19 8\n"
     ]
    }
   ],
   "source": [
    "#escolhendo a origem e o destino da rota\n",
    "i = randint(0, len(estados_romenia)-1)\n",
    "j = randint(0, len(estados_romenia)-1)\n",
    "\n",
    "print(i, j)"
   ]
  },
  {
   "cell_type": "code",
   "execution_count": 3,
   "metadata": {},
   "outputs": [
    {
     "data": {
      "text/plain": [
       "'Neamt'"
      ]
     },
     "execution_count": 3,
     "metadata": {},
     "output_type": "execute_result"
    }
   ],
   "source": [
    "origem = estados_romenia[i]['estado']\n",
    "origem"
   ]
  },
  {
   "cell_type": "code",
   "execution_count": 4,
   "metadata": {},
   "outputs": [
    {
     "data": {
      "text/plain": [
       "'Craiova'"
      ]
     },
     "execution_count": 4,
     "metadata": {},
     "output_type": "execute_result"
    }
   ],
   "source": [
    "destino = estados_romenia[j]['estado']\n",
    "destino"
   ]
  },
  {
   "attachments": {},
   "cell_type": "markdown",
   "metadata": {},
   "source": [
    "- No caso do nosso problema a busca começa na cidade Neamt e precisa chegar até a cidade de Craiova.\n",
    "- Iremos utilizar o método de busca em largura (Breadth First Search) como método para percorrer a árvore.\n",
    "- Iremos executar os passos de busca (criação e análise dos nós da árvore de busca) até chegar ao objetivo desejado."
   ]
  },
  {
   "cell_type": "code",
   "execution_count": 5,
   "metadata": {},
   "outputs": [],
   "source": [
    "#uma vez definidos o ponto de partida e destino da rota, inicia-se a busca\n",
    "no_neamt = No('Neamt', 0, None, None)\n",
    "\n",
    "prob_neamt_craiova = Problema(estados_romenia, no_neamt, lambda no: no.estado == destino)"
   ]
  },
  {
   "cell_type": "code",
   "execution_count": 6,
   "metadata": {},
   "outputs": [
    {
     "data": {
      "text/plain": [
       "[(Neamt, 0)]"
      ]
     },
     "execution_count": 6,
     "metadata": {},
     "output_type": "execute_result"
    }
   ],
   "source": [
    "bfs_neamt_craiova = BuscaLargura(prob_neamt_craiova)\n",
    "bfs_neamt_craiova.fronteira"
   ]
  },
  {
   "attachments": {},
   "cell_type": "markdown",
   "metadata": {},
   "source": [
    "Inicia-se a busca a partir de Neamt <br>\n",
    "Um passo-a-passo do algoritmo é exibido abaixo até chegar no objetivo e destino final, Craiova"
   ]
  },
  {
   "cell_type": "code",
   "execution_count": 7,
   "metadata": {},
   "outputs": [
    {
     "data": {
      "text/plain": [
       "[(Iasi, 87)]"
      ]
     },
     "execution_count": 7,
     "metadata": {},
     "output_type": "execute_result"
    }
   ],
   "source": [
    "bfs_neamt_craiova.passo_busca()\n",
    "bfs_neamt_craiova.fronteira"
   ]
  },
  {
   "cell_type": "code",
   "execution_count": 8,
   "metadata": {},
   "outputs": [
    {
     "data": {
      "text/plain": [
       "[(Vaslui, 179)]"
      ]
     },
     "execution_count": 8,
     "metadata": {},
     "output_type": "execute_result"
    }
   ],
   "source": [
    "bfs_neamt_craiova.passo_busca()\n",
    "bfs_neamt_craiova.fronteira"
   ]
  },
  {
   "cell_type": "code",
   "execution_count": 9,
   "metadata": {},
   "outputs": [
    {
     "data": {
      "text/plain": [
       "[(Urziceni, 321)]"
      ]
     },
     "execution_count": 9,
     "metadata": {},
     "output_type": "execute_result"
    }
   ],
   "source": [
    "bfs_neamt_craiova.passo_busca()\n",
    "bfs_neamt_craiova.fronteira"
   ]
  },
  {
   "cell_type": "code",
   "execution_count": 10,
   "metadata": {},
   "outputs": [
    {
     "name": "stdout",
     "output_type": "stream",
     "text": [
      "[(Bucharest, 406), (Hirsova, 419)]\n",
      "[(Hirsova, 419), (Fagaras, 617), (Pitesti, 507), (Giurgiu, 496)]\n",
      "[(Fagaras, 617), (Pitesti, 507), (Giurgiu, 496), (Eforie, 505)]\n",
      "[(Pitesti, 507), (Giurgiu, 496), (Eforie, 505), (Sibiu, 716)]\n",
      "[(Giurgiu, 496), (Eforie, 505), (Sibiu, 716), (Rimnicu Vilcea, 604), (Craiova, 645)]\n",
      "[(Eforie, 505), (Sibiu, 716), (Rimnicu Vilcea, 604), (Craiova, 645)]\n",
      "[(Sibiu, 716), (Rimnicu Vilcea, 604), (Craiova, 645)]\n",
      "[(Rimnicu Vilcea, 604), (Craiova, 645), (Arad, 856), (Oradea, 867)]\n",
      "[(Craiova, 645), (Arad, 856), (Oradea, 867)]\n",
      "[(Arad, 856), (Oradea, 867)]\n"
     ]
    }
   ],
   "source": [
    "situacoes_finais = [BUSCA_SUCESSO, BUSCA_FALHOU]\n",
    "\n",
    "while bfs_neamt_craiova.situacao not in situacoes_finais:\n",
    "    bfs_neamt_craiova.passo_busca()\n",
    "    print(bfs_neamt_craiova.fronteira)"
   ]
  },
  {
   "cell_type": "code",
   "execution_count": 11,
   "metadata": {},
   "outputs": [
    {
     "name": "stdout",
     "output_type": "stream",
     "text": [
      "Busca chegou ao objetivo com sucesso\n"
     ]
    },
    {
     "data": {
      "text/plain": [
       "[(Arad, 856), (Oradea, 867)]"
      ]
     },
     "execution_count": 11,
     "metadata": {},
     "output_type": "execute_result"
    }
   ],
   "source": [
    "bfs_neamt_craiova.passo_busca()\n",
    "bfs_neamt_craiova.fronteira"
   ]
  },
  {
   "cell_type": "code",
   "execution_count": 12,
   "metadata": {},
   "outputs": [
    {
     "data": {
      "text/plain": [
       "[(Neamt, 0),\n",
       " (Iasi, 87),\n",
       " (Vaslui, 179),\n",
       " (Urziceni, 321),\n",
       " (Bucharest, 406),\n",
       " (Pitesti, 507),\n",
       " (Craiova, 645)]"
      ]
     },
     "execution_count": 12,
     "metadata": {},
     "output_type": "execute_result"
    }
   ],
   "source": [
    "bfs_neamt_craiova.solucao"
   ]
  },
  {
   "attachments": {},
   "cell_type": "markdown",
   "metadata": {},
   "source": [
    "A solução encontrada pelo algoritmo de busca em largura obteve sucesso com o valor da solução 645."
   ]
  },
  {
   "cell_type": "code",
   "execution_count": 13,
   "metadata": {},
   "outputs": [
    {
     "data": {
      "text/plain": [
       "645"
      ]
     },
     "execution_count": 13,
     "metadata": {},
     "output_type": "execute_result"
    }
   ],
   "source": [
    "custo_total = bfs_neamt_craiova.solucao[-1].custo\n",
    "custo_total"
   ]
  }
 ],
 "metadata": {
  "kernelspec": {
   "display_name": "Python 3",
   "language": "python",
   "name": "python3"
  },
  "language_info": {
   "codemirror_mode": {
    "name": "ipython",
    "version": 3
   },
   "file_extension": ".py",
   "mimetype": "text/x-python",
   "name": "python",
   "nbconvert_exporter": "python",
   "pygments_lexer": "ipython3",
   "version": "3.8.10"
  },
  "orig_nbformat": 4
 },
 "nbformat": 4,
 "nbformat_minor": 2
}
